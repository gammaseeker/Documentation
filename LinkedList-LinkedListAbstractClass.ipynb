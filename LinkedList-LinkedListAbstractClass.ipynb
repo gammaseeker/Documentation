{
 "cells": [
  {
   "cell_type": "markdown",
   "metadata": {},
   "source": [
    "# Linked List - Linked List Abstract Class"
   ]
  },
  {
   "cell_type": "markdown",
   "metadata": {},
   "source": [
    "Since there are four types of linked list, it is best to create a linked list abstract class. Every specific type of linked list will extend this class."
   ]
  },
  {
   "cell_type": "code",
   "execution_count": null,
   "metadata": {
    "collapsed": true
   },
   "outputs": [],
   "source": [
    "abstract public class LinkedList\n",
    "{\n",
    "    protected Node head;\n",
    "    protected int length;"
   ]
  },
  {
   "cell_type": "markdown",
   "metadata": {},
   "source": [
    "The LinkedList abstract class has two instance variables, a pointer called head which will point to a Node, and a length. The variables are protected because each class that extends LinkedList must be able to access the instance variables, however the client should not be."
   ]
  },
  {
   "cell_type": "code",
   "execution_count": null,
   "metadata": {
    "collapsed": true
   },
   "outputs": [],
   "source": [
    "    public LinkedList()\n",
    "    {\n",
    "        head = new Node();\n",
    "        length = 1;\n",
    "    }\n",
    "\n",
    "    public LinkedList(Node node)\n",
    "    {\n",
    "        head = node;\n",
    "        length = 1;\n",
    "    }"
   ]
  },
  {
   "cell_type": "markdown",
   "metadata": {},
   "source": [
    "There are two constructors: a default constructor, and a constructor that takes in a Node as the head."
   ]
  },
  {
   "cell_type": "code",
   "execution_count": null,
   "metadata": {
    "collapsed": true
   },
   "outputs": [],
   "source": [
    "    /**\n",
    "     * \n",
    "     * @return the length of the linked list\n",
    "     */\n",
    "    public int size()\n",
    "    {\n",
    "        return length;\n",
    "    }"
   ]
  },
  {
   "cell_type": "markdown",
   "metadata": {},
   "source": [
    "A method to get the size."
   ]
  },
  {
   "cell_type": "code",
   "execution_count": null,
   "metadata": {
    "collapsed": true
   },
   "outputs": [],
   "source": [
    "     /**\n",
    "     * \n",
    "     * @param list the SinglyLinkedList to search in.\n",
    "     * @param target the int to search for.\n",
    "     * @return a Node that is specified by @param target.\n",
    "     */\n",
    "    public Node search(int target)\n",
    "    {\n",
    "        Node x = head;\n",
    "        while(x.getNext() != null && x.getData()!= target)\n",
    "        {\n",
    "            x = x.getNext();\n",
    "        }\n",
    "        if(x.getNext() == null && x.getData() != target)\n",
    "        {\n",
    "            return null;\n",
    "        }\n",
    "        return x;\n",
    "    }"
   ]
  },
  {
   "cell_type": "markdown",
   "metadata": {},
   "source": [
    "The search method. The user will input the data they are searching for. The method will search for that Node which contains the data, and return that Node."
   ]
  },
  {
   "cell_type": "code",
   "execution_count": null,
   "metadata": {
    "collapsed": true
   },
   "outputs": [],
   "source": [
    "    public int get(int index)\n",
    "    {\n",
    "        Node x = head;\n",
    "        int ctr = 0;\n",
    "        while(ctr != index)\n",
    "        {\n",
    "            x = x.getNext();\n",
    "            ctr++;\n",
    "        }\n",
    "        return x.getData();\n",
    "    }"
   ]
  },
  {
   "cell_type": "markdown",
   "metadata": {},
   "source": [
    "The user will input an index within the LinkedList and get() will return the data within that index."
   ]
  },
  {
   "cell_type": "code",
   "execution_count": null,
   "metadata": {
    "collapsed": true
   },
   "outputs": [],
   "source": [
    " /**\n",
    "    * Appends node to end of linked list\n",
    "    * @param node the node to be added.\n",
    "    */\n",
    "    public abstract void add(Node node);\n",
    "\n",
    "    /**\n",
    "     * Inserts node at specified index.\n",
    "     * @param node the node to be inserted\n",
    "     * @param index the position of where to insert the node\n",
    "     */\n",
    "    public abstract void insert(Node node, int index);\n",
    "\n",
    "    /**\n",
    "     * Deletes node at index\n",
    "     * @param index the position of the node to be deleted\n",
    "     */\n",
    "    public abstract void delete(int index);"
   ]
  },
  {
   "cell_type": "markdown",
   "metadata": {},
   "source": [
    "Abstract methods to be written. Each type of linked list will have a different algorithm for each method."
   ]
  },
  {
   "cell_type": "code",
   "execution_count": null,
   "metadata": {
    "collapsed": true
   },
   "outputs": [],
   "source": [
    "    public void display()\n",
    "    {\n",
    "        Node x = head;\n",
    "        for(int i = 0; i < length; i++)\n",
    "        {\n",
    "\n",
    "            System.out.println(x.getData());\n",
    "            x = x.getNext();\n",
    "        }\n",
    "    }"
   ]
  },
  {
   "cell_type": "markdown",
   "metadata": {},
   "source": [
    "Displays the LinkedList. Below this line is the class in its entirety."
   ]
  },
  {
   "cell_type": "code",
   "execution_count": null,
   "metadata": {
    "collapsed": true
   },
   "outputs": [],
   "source": [
    "package linkedLists;\n",
    "\n",
    "abstract public class LinkedList\n",
    "{\n",
    "    protected Node head;\n",
    "    protected int length;\n",
    "\n",
    "    public LinkedList()\n",
    "    {\n",
    "        head = new Node();\n",
    "        length = 1;\n",
    "    }\n",
    "\n",
    "    public LinkedList(Node node)\n",
    "    {\n",
    "        head = node;\n",
    "        length = 1;\n",
    "    }\n",
    "    /**\n",
    "     * \n",
    "     * @return the length of the linked list\n",
    "     */\n",
    "    public int size()\n",
    "    {\n",
    "        return length;\n",
    "    }\n",
    "     /**\n",
    "     * \n",
    "     * @param list the SinglyLinkedList to search in.\n",
    "     * @param target the int to search for.\n",
    "     * @return a Node that is specified by @param target.\n",
    "     */\n",
    "    public Node search(int target)\n",
    "    {\n",
    "        Node x = head;\n",
    "        while(x.getNext() != null && x.getData()!= target)\n",
    "        {\n",
    "            x = x.getNext();\n",
    "        }\n",
    "        if(x.getNext() == null && x.getData() != target)\n",
    "        {\n",
    "            return null;\n",
    "        }\n",
    "        return x;\n",
    "    }\n",
    "\n",
    "    public int get(int index)\n",
    "    {\n",
    "        Node x = head;\n",
    "        int ctr = 0;\n",
    "        while(ctr != index)\n",
    "        {\n",
    "            x = x.getNext();\n",
    "            ctr++;\n",
    "        }\n",
    "        return x.getData();\n",
    "    }\n",
    "    /**\n",
    "    * Appends node to end of linked list\n",
    "    * @param node the node to be added.\n",
    "    */\n",
    "    public abstract void add(Node node);\n",
    "\n",
    "    /**\n",
    "     * Inserts node at specified index.\n",
    "     * @param node the node to be inserted\n",
    "     * @param index the position of where to insert the node\n",
    "     */\n",
    "    public abstract void insert(Node node, int index);\n",
    "\n",
    "    /**\n",
    "     * Deletes node at index\n",
    "     * @param index the position of the node to be deleted\n",
    "     */\n",
    "    public abstract void delete(int index);\n",
    "\n",
    "    /**\n",
    "     * Displays all data in linked list in a forward manner\n",
    "     */\n",
    "    public void display()\n",
    "    {\n",
    "        Node x = head;\n",
    "        for(int i = 0; i < length; i++)\n",
    "        {\n",
    "\n",
    "            System.out.println(x.getData());\n",
    "            x = x.getNext();\n",
    "        }\n",
    "    }\n",
    "}\n"
   ]
  }
 ],
 "metadata": {
  "kernelspec": {
   "display_name": "Scijava",
   "language": "groovy",
   "name": "scijava"
  },
  "language_info": {
   "codemirror_mode": "groovy",
   "file_extension": "",
   "mimetype": "",
   "name": "scijava",
   "nbconverter_exporter": "",
   "pygments_lexer": "groovy",
   "version": "1.0"
  }
 },
 "nbformat": 4,
 "nbformat_minor": 2
}
