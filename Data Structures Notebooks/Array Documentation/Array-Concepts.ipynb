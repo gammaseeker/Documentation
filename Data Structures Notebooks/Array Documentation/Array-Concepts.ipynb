{
 "cells": [
  {
   "cell_type": "markdown",
   "metadata": {},
   "source": [
    "# Array - Concepts"
   ]
  },
  {
   "cell_type": "markdown",
   "metadata": {},
   "source": [
    "<div>The most basic data structure you have already learn is the array or list. Since you know the application of this structure, it is time to learn the theory behind it.</div>"
   ]
  },
  {
   "cell_type": "markdown",
   "metadata": {},
   "source": [
    "# Access"
   ]
  },
  {
   "cell_type": "markdown",
   "metadata": {},
   "source": [
    "Within the computer, an array is a memory address. In order to return some element within the array, the computer will perform some mathemetical calculation to figure out the element's index within the memory address and return the piece of data at that index. Since the computer is performing an arithmetic operation, <b>access for an array is $O(1)$</b>. "
   ]
  },
  {
   "cell_type": "markdown",
   "metadata": {},
   "source": [
    "# Search"
   ]
  },
  {
   "cell_type": "markdown",
   "metadata": {},
   "source": [
    "If we are searching within an array, we must traverse it linearly. We start from index 0 and keep on traversing our array until we find our target. In the worst case, our target may be the absolute last element of the array, element $n$.<b> Therefore, search for an array is $O(n)$.</b>"
   ]
  },
  {
   "cell_type": "markdown",
   "metadata": {},
   "source": [
    "# Insertion"
   ]
  },
  {
   "cell_type": "markdown",
   "metadata": {},
   "source": [
    "So when we insert within an array we must consider two cases:\n",
    "<ol>\n",
    "    <li>Insertion when the array is full</li>\n",
    "    <li>Inserion when the array is not full</li>\n",
    "</ol>\n",
    "Let's look into the first scenario. Consider an array of 5 elements called $A$, and I want to insert a 6th element. Well there is no space within $A$ to insert a 6th element since we only have an array of length 5. As a result, the computer will build a new array with 6 empty slots, let's call it $B$. Then the computer will copy all of the elements from $A$ into $B$ including our 6th element placed at the desired index as illustrated in the diagram below:"
   ]
  },
  {
   "cell_type": "code",
   "execution_count": 1,
   "metadata": {},
   "outputs": [
    {
     "data": {
      "image/png": "[encoded data removed]",
      "text/plain": [
       "<IPython.core.display.Image object>"
      ]
     },
     "execution_count": 1,
     "metadata": {},
     "output_type": "execute_result"
    }
   ],
   "source": [
    "from IPython.display import Image\n",
    "\n",
    "Image(\"images/arrayInsert.png\")"
   ]
  },
  {
   "cell_type": "markdown",
   "metadata": {},
   "source": [
    "In the worst case, we want to insert an element at the end of the array, the $nth$ index. We must recopy $n$ elements into our new array then place in the new element. As a result, <b>insertion of an array is $O(n)$.</b>\n",
    "<br>\n",
    "Now let's look at the second scenario. Consider an array of 5 indeces called $A$, but only 3 out 5 indeces have actual data. We want to insert an element at one of the empty indeces. Well since the length of $A$ will remain the same, the computer does not have to build a new array. Rather it will perform some arithmetic to $A$'s memory address to edit our desired index to contain our element. On average, the array will have more indeces, than we have data. Since the computer is performing an arithemetic operation, <b>insertion in the average case is $\\theta(1)$.</b>"
   ]
  },
  {
   "cell_type": "markdown",
   "metadata": {},
   "source": [
    "# Deletion"
   ]
  },
  {
   "cell_type": "markdown",
   "metadata": {},
   "source": [
    "Deletion is very similar to insertion, but rather than inserting an element we are obviously deleting. The two cases for insertion apply to deletion as well as the time complexities.\n",
    "<ul>\n",
    "    <li>$O(n)$</li>\n",
    "    <li>$\\theta(1)$</li>\n",
    "<ul>"
   ]
  },
  {
   "cell_type": "markdown",
   "metadata": {},
   "source": [
    "# Conclusion"
   ]
  },
  {
   "cell_type": "markdown",
   "metadata": {},
   "source": [
    "In summary, here are the time complexities for the array's basic operations:\n",
    "<table>\n",
    "    <tr>\n",
    "        <th>Access </th>\n",
    "        <th>Search </th>\n",
    "        <th>Insertion </th>\n",
    "        <th>Deletion </th>\n",
    "    </tr>\n",
    "    <tr>\n",
    "        <td>$\\theta(1)$ </td>\n",
    "        <td>$\\theta(n)$ </td>\n",
    "        <td>$\\theta(1)$ </td>\n",
    "        <td>$\\theta(1)$ </td>\n",
    "    </tr>\n",
    "    <tr>\n",
    "        <td>$O(1)$ </td>\n",
    "        <td>$O(n)$ </td>\n",
    "        <td>$O(n)$ </td>\n",
    "        <td>$O(n)$ </td>\n",
    "    </tr>\n",
    "</table>"
   ]
  }
 ],
 "metadata": {
  "kernelspec": {
   "display_name": "Python 3",
   "language": "python",
   "name": "python3"
  },
  "language_info": {
   "codemirror_mode": {
    "name": "ipython",
    "version": 3
   },
   "file_extension": ".py",
   "mimetype": "text/x-python",
   "name": "python",
   "nbconvert_exporter": "python",
   "pygments_lexer": "ipython3",
   "version": "3.5.2"
  }
 },
 "nbformat": 4,
 "nbformat_minor": 2
}
