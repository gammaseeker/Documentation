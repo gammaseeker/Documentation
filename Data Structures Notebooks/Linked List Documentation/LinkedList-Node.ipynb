{
 "cells": [
  {
   "cell_type": "markdown",
   "metadata": {},
   "source": [
    "# Linked List - Node"
   ]
  },
  {
   "cell_type": "markdown",
   "metadata": {},
   "source": [
    "Linked List: A chain of nodes which points to each subsequent node.\n",
    "There are 4 flavors of linked lists\n",
    "<ul>\n",
    "<li>Singly Linked List</li>\n",
    "<li>Doubly Linked List</li>\n",
    "<li>Circular Singly Linked List</li>\n",
    "<li>Circular Doubly Linked List</li>\n",
    "</ul>"
   ]
  },
  {
   "cell_type": "markdown",
   "metadata": {},
   "source": [
    "To wrap your head around a \"node\" you want to imagine a box with two containers. One containter will store the data we are working with, and one containter that will point to another node OR null if there is no next node.\n",
    "<img src = \"node.png\">"
   ]
  },
  {
   "cell_type": "markdown",
   "metadata": {},
   "source": [
    "First we will take a look at our implementation of the <b>node</b> in Java"
   ]
  },
  {
   "cell_type": "code",
   "execution_count": null,
   "metadata": {
    "collapsed": true
   },
   "outputs": [],
   "source": [
    "public class Node  {\n",
    "    private int data;\n",
    "    private Node next;\n",
    "    private Node prev;"
   ]
  },
  {
   "cell_type": "markdown",
   "metadata": {},
   "source": [
    "The <b>node</b> has 3 properties. Its <b>data</b>, <b>a pointer that points to the next node</b>, and <b>a pointer that points to the previous node.</b>"
   ]
  },
  {
   "cell_type": "code",
   "execution_count": null,
   "metadata": {
    "collapsed": true
   },
   "outputs": [],
   "source": [
    "    public Node()\n",
    "    {\n",
    "\n",
    "    }\n",
    "\n",
    "    public Node(int item)\n",
    "    {\n",
    "        this.data = item;\n",
    "        this.next = null;\n",
    "        this.prev = null;\n",
    "    }"
   ]
  },
  {
   "cell_type": "markdown",
   "metadata": {},
   "source": [
    "Our node object has two constructors. A no parameter constructor, and a constructor that takes in a parameter which will represent out data."
   ]
  },
  {
   "cell_type": "code",
   "execution_count": null,
   "metadata": {
    "collapsed": true
   },
   "outputs": [],
   "source": [
    "    public boolean setPrev(Node next)\n",
    "    {\n",
    "        this.prev = next;\n",
    "        return true;\n",
    "    }\n",
    "\n",
    "    public boolean setNext(Node next)\n",
    "    {\n",
    "        this.next = next;\n",
    "        return true;\n",
    "    }\n",
    "\n",
    "    public Node getPrev()\n",
    "    {\n",
    "        return this.prev;\n",
    "    }\n",
    "\n",
    "    public Node getNext()\n",
    "    {\n",
    "        return this.next;\n",
    "    }\n",
    "\n",
    "    public int getData()\n",
    "    {\n",
    "        return this.data;\n",
    "    }\n",
    "    \n",
    "    public String toString()\n",
    "    {\n",
    "        return Integer.toString(this.data);\n",
    "    }"
   ]
  },
  {
   "cell_type": "markdown",
   "metadata": {},
   "source": [
    "Lastly, as per standard of an object, we have setters and getters of every instance variable of the node. As well as a toString() so it is convinient to print a node object. Below is the class in its entirety. "
   ]
  },
  {
   "cell_type": "code",
   "execution_count": null,
   "metadata": {
    "collapsed": true
   },
   "outputs": [],
   "source": [
    "package linkedLists;\n",
    "\n",
    "public class Node  {\n",
    "    private int data;\n",
    "    private Node next;\n",
    "    private Node prev;\n",
    "    \n",
    "    public Node()\n",
    "    {\n",
    "\n",
    "    }\n",
    "\n",
    "    public Node(int item)\n",
    "    {\n",
    "        this.data = item;\n",
    "        this.next = null;\n",
    "        this.prev = null;\n",
    "    }\n",
    "\n",
    "    public boolean setPrev(Node next)\n",
    "    {\n",
    "        this.prev = next;\n",
    "        return true;\n",
    "    }\n",
    "\n",
    "    public boolean setNext(Node next)\n",
    "    {\n",
    "        this.next = next;\n",
    "        return true;\n",
    "    }\n",
    "\n",
    "    public Node getPrev()\n",
    "    {\n",
    "        return this.prev;\n",
    "    }\n",
    "\n",
    "    public Node getNext()\n",
    "    {\n",
    "        return this.next;\n",
    "    }\n",
    "\n",
    "    public int getData()\n",
    "    {\n",
    "        return this.data;\n",
    "    }\n",
    "    \n",
    "    public String toString()\n",
    "    {\n",
    "        return Integer.toString(this.data);\n",
    "    }\n",
    "}"
   ]
  }
 ],
 "metadata": {
  "kernelspec": {
   "display_name": "Scijava",
   "language": "groovy",
   "name": "scijava"
  },
  "language_info": {
   "codemirror_mode": "groovy",
   "file_extension": "",
   "mimetype": "",
   "name": "scijava",
   "nbconverter_exporter": "",
   "pygments_lexer": "groovy",
   "version": "1.0"
  }
 },
 "nbformat": 4,
 "nbformat_minor": 2
}
