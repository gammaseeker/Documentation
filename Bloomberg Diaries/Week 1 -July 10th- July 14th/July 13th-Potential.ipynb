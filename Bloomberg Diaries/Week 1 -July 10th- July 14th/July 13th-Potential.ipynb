{
 "cells": [
  {
   "cell_type": "markdown",
   "metadata": {},
   "source": [
    "# Potential"
   ]
  },
  {
   "cell_type": "markdown",
   "metadata": {
    "collapsed": true
   },
   "source": [
    "I remember during my interview with a senior manager at Bloomberg emphasized that this was a fast pace work environment. He definitely was not lying. Throughout the day I am either bouncing from meeting to meeting, even as an intern, or I'm deep in to coding. One of my more interesting meetings featured a talk with Bloomberg's LGBQT+ community."
   ]
  },
  {
   "cell_type": "markdown",
   "metadata": {},
   "source": [
    "# Diversity and Inclusion"
   ]
  },
  {
   "cell_type": "markdown",
   "metadata": {},
   "source": [
    "Bloomberg is very open in supporting a variety of groups of people. The meeting I attended featured leaders of the LGBQT+ community at Bloomberg discussing the company's perspective and environment it tries to create for these groups of people. I met more interns at this meeting, all of which were college interns, one of which I'm crushing on... One major point I took away from this meeting was that I should value the type of environment a company strives to create over the money. The speakers shared anecdotes where they were offered positions with very high pay, however they did not feel comfortable at that company because they were LGBQT+."
   ]
  },
  {
   "cell_type": "markdown",
   "metadata": {},
   "source": [
    "# All the Resources to Succeed"
   ]
  },
  {
   "cell_type": "markdown",
   "metadata": {},
   "source": [
    "A major discovery today was one of my perks. It turns out one of my perks include having unlimited access to an online book site called Safari. I managed to find all the books I could on machine learning. I have 6 weeks here to learn all I can with all the resources at my finger tips. I have no excueses..."
   ]
  }
 ],
 "metadata": {
  "kernelspec": {
   "display_name": "Python 3",
   "language": "python",
   "name": "python3"
  },
  "language_info": {
   "codemirror_mode": {
    "name": "ipython",
    "version": 3
   },
   "file_extension": ".py",
   "mimetype": "text/x-python",
   "name": "python",
   "nbconvert_exporter": "python",
   "pygments_lexer": "ipython3",
   "version": "3.5.2"
  }
 },
 "nbformat": 4,
 "nbformat_minor": 2
}
