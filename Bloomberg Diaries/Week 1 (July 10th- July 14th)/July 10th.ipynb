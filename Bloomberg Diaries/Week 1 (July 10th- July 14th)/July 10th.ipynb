{
 "cells": [
  {
   "cell_type": "markdown",
   "metadata": {},
   "source": [
    "# First Day at Bloomberg - July 10th, 2017"
   ]
  },
  {
   "cell_type": "markdown",
   "metadata": {
    "collapsed": true
   },
   "source": [
    "Lessons from Mike Bloomberg:\n",
    "<ul>\n",
    "    <li> Projections don't work. At most project up to tomorrow </li>\n",
    "    <li> Week long vacations are boring, like to work </li>\n",
    "    <li> Don't chase the title/money, like what you do, know what you do </li>\n",
    "    <li> Never look back. No point in focusing on miserable past</li>\n",
    "    <li> Be first one in, last one to leave </li>\n",
    "    <li> Be kind to people </li>\n",
    "    <li> Life is a team sport </li>\n",
    "    <li> You need the personality and work ethic to suceed (Golf anecdote: 15 year old kid constantly offered to help)</li>\n",
    "</ul>\n",
    "\n",
    "\n",
    "\n"
   ]
  }
 ],
 "metadata": {
  "kernelspec": {
   "display_name": "Python 3",
   "language": "python",
   "name": "python3"
  },
  "language_info": {
   "codemirror_mode": {
    "name": "ipython",
    "version": 3
   },
   "file_extension": ".py",
   "mimetype": "text/x-python",
   "name": "python",
   "nbconvert_exporter": "python",
   "pygments_lexer": "ipython3",
   "version": "3.5.2"
  }
 },
 "nbformat": 4,
 "nbformat_minor": 2
}
