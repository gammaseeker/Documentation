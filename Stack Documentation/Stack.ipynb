{
 "cells": [
  {
   "cell_type": "markdown",
   "metadata": {},
   "source": [
    "# Stack"
   ]
  },
  {
   "cell_type": "markdown",
   "metadata": {},
   "source": [
    "The stack is an abstract data structure that implements a Last-in First-out(LIFO) policy. Where the last piece of data that enters the data structure, will be the first piece of that data that exits that data structure. The stack can be implemented via other concrete data structures, such as arrays, and linked lists."
   ]
  },
  {
   "cell_type": "markdown",
   "metadata": {},
   "source": [
    "I built a stack from scratch by representing it as a linked list, with two other fields: a length counter, and a pointer that points to the top most element in my stack."
   ]
  },
  {
   "cell_type": "code",
   "execution_count": null,
   "metadata": {
    "collapsed": true
   },
   "outputs": [],
   "source": [
    "public class Stack {\n",
    "\n",
    "    private List<Integer> theStack = new LinkedList<Integer>();;\n",
    "    private int length;\n",
    "    private int top;"
   ]
  },
  {
   "cell_type": "markdown",
   "metadata": {},
   "source": [
    "I had only one constructor where the user must specify the size of the Stack."
   ]
  },
  {
   "cell_type": "code",
   "execution_count": null,
   "metadata": {
    "collapsed": true
   },
   "outputs": [],
   "source": [
    " public Stack(int size)\n",
    "    {\n",
    "        length = size;\n",
    "        top = -1;\n",
    "    }"
   ]
  },
  {
   "cell_type": "markdown",
   "metadata": {},
   "source": [
    "From there I built standard stack algorithms. size() returns the length counter, isFull() checks if the stack is full, isEmpty() checks if the stack is empty. "
   ]
  },
  {
   "cell_type": "code",
   "execution_count": null,
   "metadata": {
    "collapsed": true
   },
   "outputs": [],
   "source": [
    "public int size()\n",
    "    {\n",
    "        return length;\n",
    "    }\n",
    "\n",
    "    public boolean isFull()\n",
    "    {\n",
    "        return theStack.size() == length;\n",
    "    }\n",
    "    public boolean isEmpty()\n",
    "    {\n",
    "        return theStack.size() == 0;\n",
    "    }"
   ]
  },
  {
   "cell_type": "markdown",
   "metadata": {},
   "source": [
    "The stack's main operations are push(), pop() and peek(). push() will push items into the stack, if the stack is full, the user will recieve a stack overflow error.  "
   ]
  },
  {
   "cell_type": "code",
   "execution_count": null,
   "metadata": {
    "collapsed": true
   },
   "outputs": [],
   "source": [
    "public boolean push(int data)\n",
    "    {\n",
    "        if(isFull())\n",
    "        {\n",
    "            System.out.println(\"Stack Overflow Error\");\n",
    "            return false;\n",
    "        }\n",
    "        top++;\n",
    "        theStack.add(top, data);\n",
    "        return true;\n",
    "    }\n"
   ]
  },
  {
   "cell_type": "markdown",
   "metadata": {},
   "source": [
    "pop() will remove the top item on the stack, if the stack is empty, the user will recieve a stack underflow error."
   ]
  },
  {
   "cell_type": "code",
   "execution_count": null,
   "metadata": {
    "collapsed": true
   },
   "outputs": [],
   "source": [
    "public int pop()\n",
    "    {\n",
    "        if(isEmpty())\n",
    "        {\n",
    "            System.out.println(\"Stack is empty\");\n",
    "            return -1;\n",
    "        }\n",
    "        top--;\n",
    "        return theStack.remove(top);\n",
    "    }"
   ]
  },
  {
   "cell_type": "markdown",
   "metadata": {},
   "source": [
    "peek() will let the user see the top item on the stack, but it will not remove it."
   ]
  },
  {
   "cell_type": "code",
   "execution_count": null,
   "metadata": {
    "collapsed": true
   },
   "outputs": [],
   "source": [
    "    public int peek()\n",
    "    {\n",
    "        if(isEmpty())\n",
    "        {\n",
    "            System.out.println(\"Stack is empty\");\n",
    "            return -1;\n",
    "        }\n",
    "        return theStack.get(top);\n",
    "    }"
   ]
  },
  {
   "cell_type": "markdown",
   "metadata": {},
   "source": [
    "Below is my Stack class in its entirety. "
   ]
  },
  {
   "cell_type": "code",
   "execution_count": null,
   "metadata": {
    "collapsed": true
   },
   "outputs": [],
   "source": [
    "package stack;\n",
    "\n",
    "import java.util.*;\n",
    "\n",
    "public class Stack {\n",
    "\n",
    "    private List<Integer> theStack = new LinkedList<Integer>();;\n",
    "    private int length;\n",
    "    private int top;\n",
    "\n",
    "    public Stack(int size)\n",
    "    {\n",
    "        length = size;\n",
    "        top = -1;\n",
    "    }\n",
    "\n",
    "    public int size()\n",
    "    {\n",
    "        return length;\n",
    "    }\n",
    "\n",
    "    public boolean isFull()\n",
    "    {\n",
    "        return theStack.size() == length;\n",
    "    }\n",
    "    public boolean isEmpty()\n",
    "    {\n",
    "        return theStack.size() == 0;\n",
    "    }\n",
    "    public boolean push(int data)\n",
    "    {\n",
    "        if(isFull())\n",
    "        {\n",
    "            System.out.println(\"Stack Overflow Error\");\n",
    "            return false;\n",
    "        }\n",
    "        top++;\n",
    "        theStack.add(top, data);\n",
    "        return true;\n",
    "    }\n",
    "    public int pop()\n",
    "    {\n",
    "        if(isEmpty())\n",
    "        {\n",
    "            System.out.println(\"Stack is empty\");\n",
    "            return -1;\n",
    "        }\n",
    "        top--;\n",
    "        return theStack.remove(top);\n",
    "    }\n",
    "    public int peek()\n",
    "    {\n",
    "        if(isEmpty())\n",
    "        {\n",
    "            System.out.println(\"Stack is empty\");\n",
    "            return -1;\n",
    "        }\n",
    "        return theStack.get(top);\n",
    "    }\n",
    "}\n",
    "\n"
   ]
  }
 ],
 "metadata": {
  "kernelspec": {
   "display_name": "Scijava",
   "language": "groovy",
   "name": "scijava"
  },
  "language_info": {
   "codemirror_mode": "groovy",
   "file_extension": "",
   "mimetype": "",
   "name": "scijava",
   "nbconverter_exporter": "",
   "pygments_lexer": "groovy",
   "version": "1.0"
  }
 },
 "nbformat": 4,
 "nbformat_minor": 2
}
